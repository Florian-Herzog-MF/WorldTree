{
 "cells": [
  {
   "cell_type": "code",
   "execution_count": 1,
   "metadata": {},
   "outputs": [],
   "source": [
    "import sys\n",
    "sys.path.append(\"./../\")\n",
    "from src.llm_client import LLMClient\n",
    "from src.embedding_client import EmbeddingClient"
   ]
  },
  {
   "cell_type": "code",
   "execution_count": 2,
   "metadata": {},
   "outputs": [],
   "source": [
    "if False:\n",
    "    llm = LLMClient()\n",
    "    llm.generate_response(\"How are you today?\", \"You are a helpful assistant.\")"
   ]
  },
  {
   "cell_type": "code",
   "execution_count": 3,
   "metadata": {},
   "outputs": [],
   "source": [
    "if False:\n",
    "    embedding = EmbeddingClient()\n",
    "    embedding.embedd_query(\"How are you today?\")"
   ]
  },
  {
   "cell_type": "code",
   "execution_count": null,
   "metadata": {},
   "outputs": [
    {
     "name": "stdout",
     "output_type": "stream",
     "text": [
      "Home Endpoint\n",
      "Status Code: 200\n",
      "Response Text: Welcome to my Flask app!\n"
     ]
    }
   ],
   "source": [
    "import requests\n",
    "import json\n",
    "\n",
    "# Define the base URL of the server\n",
    "base_url = 'http://localhost:5000/api/v1'\n",
    "\n",
    "# Function to print response nicely\n",
    "def print_response(response):\n",
    "    print(f\"Status Code: {response.status_code}\")\n",
    "    try:\n",
    "        print(f\"Response JSON: {response.json()}\")\n",
    "    except json.decoder.JSONDecodeError:\n",
    "        print(f\"Response Text: {response.text}\")\n",
    "\n",
    "# Home endpoint\n",
    "response = requests.get('http://localhost:5000/')\n",
    "print(\"Home Endpoint\")\n",
    "print_response(response)\n",
    "\n",
    "# Persist source\n",
    "response = requests.post(f'{base_url}/source/persist', json={'source': 'source_data'})\n",
    "print(\"\\nPersist Source\")\n",
    "print_response(response)\n",
    "source_id = response.json().get('id')\n",
    "\n",
    "if source_id:\n",
    "    # Persist world object\n",
    "    response = requests.post(f'{base_url}/world-objects/persist', json={'world_object': {'name': 'obj1'}, 'source_id': source_id})\n",
    "    print(\"\\nPersist World Object\")\n",
    "    print_response(response)\n",
    "    world_object_id = response.json().get('id')\n",
    "\n",
    "    # If world object persisted successfully, run further tests\n",
    "    if world_object_id:\n",
    "        # Get world objects\n",
    "        response = requests.get(f'{base_url}/world-objects', params={'skip': 0, 'amount': 5})\n",
    "        print(\"\\nGet World Objects\")\n",
    "        print_response(response)\n",
    "\n",
    "        # Search world objects\n",
    "        response = requests.get(f'{base_url}/world-objects/search', params={'prompt': 'obj1', 'amount': 5})\n",
    "        print(\"\\nSearch World Objects\")\n",
    "        print_response(response)\n",
    "\n",
    "        # Get world object by ID\n",
    "        response = requests.get(f'{base_url}/world-objects/{world_object_id}')\n",
    "        print(\"\\nGet World Object by ID\")\n",
    "        print_response(response)\n",
    "\n",
    "        # Get source by ID\n",
    "        response = requests.get(f'{base_url}/source/{source_id}')\n",
    "        print(\"\\nGet Source by ID\")\n",
    "        print_response(response)\n",
    "\n",
    "    # Generate source\n",
    "    response = requests.post(f'{base_url}/source/generate', json={'prompt': 'test', 'amount': 5})\n",
    "    print(\"\\nGenerate Source\")\n",
    "    print_response(response)\n",
    "\n",
    "    # Generate world objects\n",
    "    response = requests.post(f'{base_url}/world-objects/generate', json={'source': 'test', 'wo_ids': [world_object_id]})\n",
    "    print(\"\\nGenerate World Objects\")\n",
    "    print_response(response)\n",
    "\n",
    "else:\n",
    "    print(\"\\nFailed to persist source. Skipping dependent tests.\")"
   ]
  }
 ],
 "metadata": {
  "kernelspec": {
   "display_name": ".venv",
   "language": "python",
   "name": "python3"
  },
  "language_info": {
   "codemirror_mode": {
    "name": "ipython",
    "version": 3
   },
   "file_extension": ".py",
   "mimetype": "text/x-python",
   "name": "python",
   "nbconvert_exporter": "python",
   "pygments_lexer": "ipython3",
   "version": "3.11.0b4"
  }
 },
 "nbformat": 4,
 "nbformat_minor": 2
}
