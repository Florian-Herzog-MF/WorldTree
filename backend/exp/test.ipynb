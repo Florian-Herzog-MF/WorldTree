{
 "cells": [
  {
   "cell_type": "code",
   "execution_count": 1,
   "metadata": {},
   "outputs": [],
   "source": [
    "import sys\n",
    "sys.path.append(\"./../\")\n",
    "from src.llm_client import LLMClient\n",
    "from src.embedding_client import EmbeddingClient"
   ]
  },
  {
   "cell_type": "code",
   "execution_count": 2,
   "metadata": {},
   "outputs": [],
   "source": [
    "if False:\n",
    "    llm = LLMClient()\n",
    "    llm.generate_response(\"How are you today?\", \"You are a helpful assistant.\")"
   ]
  },
  {
   "cell_type": "code",
   "execution_count": 3,
   "metadata": {},
   "outputs": [],
   "source": [
    "if False:\n",
    "    embedding = EmbeddingClient()\n",
    "    embedding.embedd_query(\"How are you today?\")"
   ]
  },
  {
   "cell_type": "code",
   "execution_count": 11,
   "metadata": {},
   "outputs": [
    {
     "name": "stdout",
     "output_type": "stream",
     "text": [
      "Server error: {'error': 'Could not fetch world objects.'}\n"
     ]
    }
   ],
   "source": [
    "import requests\n",
    "\n",
    "url = 'http://localhost:5001/api/v1/world-objects'\n",
    "params = {\n",
    "    'skip': 0,\n",
    "    'amount': 5\n",
    "}\n",
    "\n",
    "response = requests.get(url, params=params)\n",
    "\n",
    "if response.status_code == 200:\n",
    "    print('Success!')\n",
    "    print(response.json())\n",
    "elif response.status_code == 400:\n",
    "    print('Client error:', response.json())\n",
    "elif response.status_code == 500:\n",
    "    print('Server error:', response.json())\n",
    "else:\n",
    "    print(f'Unexpected status code {response.status_code}:', response.text)"
   ]
  },
  {
   "cell_type": "code",
   "execution_count": 14,
   "metadata": {},
   "outputs": [
    {
     "name": "stdout",
     "output_type": "stream",
     "text": [
      "Success!\n",
      "Alright, without context, I'll create a new world object and embed it in an entirely new world that is rich and vibrant.\n",
      "\n",
      "### World Object: The Luminary Spire\n",
      "\n",
      "**Description:**\n",
      "The Luminary Spire is a colossal, ancient tower located on the floating island of Elyria. The spire is constructed from an iridescent crystal that shimmers under the sunlight, casting various hues across the island. At its peak, it houses the legendary Orb of Tides, which is said to regulate the ebb and flow of the world's magical energies.\n",
      "\n",
      "**World: Elyria – The Floating Island Realm**\n",
      "\n",
      "**Geography:**\n",
      "Elyria is a wonderland of levitating landmasses bestowed with lush forests, tranquil lakes, and quaint villages. The islands float above the ever-moving Celestial Sea, a body of water that reflects the cosmos and acts as a gateway to various realms. Elyria is interconnected by gravity-defying bridges and winding root-like pathways that seem to defy all known laws of nature.\n",
      "\n",
      "**Culture:**\n",
      "The inhabitants of Elyria, known as Elyrians, are a harmonious blend of various species including humans, ethereal sprites, winged Aeralins, and wise beasts like the talking Wei'lar foxes. Their society thrives on the equal balance of technology and magic, evident in their crystal-powered airships and nature-infused architecture. Guarding the Luminary Spire is a prestigious responsibility, one that is bestowed upon the Order of the Prism, a revered group of warriors, scholars, and mages.\n",
      "\n",
      "**History:**\n",
      "The Luminary Spire was erected thousands of years ago during the reign of the ancient Sun King, Elaris the Enlightened. Legend states that Elaris was the one who discovered the Orb of Tides deep within the Celestial Sea, and with the help of the First Circle of Mages, he crafted the Luminary Spire to harness and regulate the orb's immense power. Over centuries, the spire became a symbol of hope and prosperity for all Elyrians.\n",
      "\n",
      "**Function in Society:**\n",
      "The Luminary Spire plays a central role in Elyrian society. It serves as an academic hub where scholars from all over Elyria come to study magical sciences and ancient history. Additionally, the Orb of Tides embedded at the top of the spire has a profound influence on the balance of magic throughout Elyria, ensuring that the natural flow of magical energies maintains harmony across the islands. Festivals and ceremonies are frequently held at the base of the spire, celebrating everything from bountiful harvests to historical anniversaries.\n",
      "\n",
      "**Threats and Mysteries:**\n",
      "Recently, disturbing disturbances in the magical tides have worried many, with whispers of shadows lurking beneath the Celestial Sea. Some fear that the Orb of Tides is losing its potency, while others believe that a malevolent force is attempting to control it for their own dark purposes. The Order of the Prism now faces the monumental task of uncovering the truth and protecting Elyria from an unseen menace.\n",
      "\n",
      "By incorporating the Luminary Spire into the floating island realm of Elyria, the object becomes a vivid and indispensable part of this fantastical world, affecting both the daily lives and the grand destiny of its inhabitants.\n"
     ]
    }
   ],
   "source": [
    "import requests\n",
    "import json\n",
    "\n",
    "url = 'http://localhost:5001/api/v1/source/generate'\n",
    "payload = {\n",
    "    \"prompt\": \"your_prompt_here\",\n",
    "    \"amount\": 5\n",
    "}\n",
    "\n",
    "headers = {\n",
    "    'Content-Type': 'application/json'\n",
    "}\n",
    "\n",
    "response = requests.post(url, data=json.dumps(payload), headers=headers)\n",
    "\n",
    "if response.status_code == 200:\n",
    "    print('Success!')\n",
    "    print(response.json())\n",
    "elif response.status_code == 400:\n",
    "    print('Client error:', response.json())\n",
    "elif response.status_code == 500:\n",
    "    print('Server error:', response.json())\n",
    "else:\n",
    "    print(f'Unexpected status code {response.status_code}:', response.text)"
   ]
  }
 ],
 "metadata": {
  "kernelspec": {
   "display_name": ".venv",
   "language": "python",
   "name": "python3"
  },
  "language_info": {
   "codemirror_mode": {
    "name": "ipython",
    "version": 3
   },
   "file_extension": ".py",
   "mimetype": "text/x-python",
   "name": "python",
   "nbconvert_exporter": "python",
   "pygments_lexer": "ipython3",
   "version": "3.11.0b4"
  }
 },
 "nbformat": 4,
 "nbformat_minor": 2
}
